{
 "cells": [
  {
   "cell_type": "code",
   "execution_count": 1,
   "id": "9ab22b6f-b88a-4a2c-a534-21f574f1d3ee",
   "metadata": {},
   "outputs": [],
   "source": [
    "import numpy as np\n",
    "import scanpy as sc\n",
    "import torch\n",
    "\n",
    "import matplotlib.pyplot as plt\n",
    "from scarches.dataset.trvae.data_handling import remove_sparsity\n",
    "from tranvae.model import TRANVAE, EMBEDCVAE\n",
    "from sklearn.metrics import classification_report\n",
    "\n",
    "sc.settings.set_figure_params(dpi=200, frameon=False)\n",
    "sc.set_figure_params(dpi=200)\n",
    "torch.set_printoptions(precision=3, sci_mode=False, edgeitems=7)"
   ]
  },
  {
   "cell_type": "code",
   "execution_count": 2,
   "id": "73647f43-2f3a-48bc-ad38-e2d3514e4eec",
   "metadata": {},
   "outputs": [],
   "source": [
    "%load_ext autoreload\n",
    "%autoreload 2"
   ]
  },
  {
   "cell_type": "code",
   "execution_count": 3,
   "id": "53861dd8-8a0f-44f1-af87-cd336541f217",
   "metadata": {},
   "outputs": [],
   "source": [
    "unlabeled_strat = \"batch\"\n",
    "cells_per_ct = 2000\n",
    "\n",
    "# Model Params\n",
    "latent_dim = 25\n",
    "use_mmd = False\n",
    "\n",
    "# Training Params\n",
    "alpha_epoch_anneal = 1e6\n",
    "eta = 1\n",
    "tau = 0\n",
    "clustering_res = 2\n",
    "labeled_loss_metric = \"dist\"\n",
    "unlabeled_loss_metric = \"dist\"\n",
    "class_metric = \"dist\"\n",
    "\n",
    "early_stopping_kwargs = {\n",
    "    \"early_stopping_metric\": \"val_classifier_loss\",\n",
    "    \"mode\": \"min\",\n",
    "    \"threshold\": 0,\n",
    "    \"patience\": 20,\n",
    "    \"reduce_lr\": True,\n",
    "    \"lr_patience\": 13,\n",
    "    \"lr_factor\": 0.1,\n",
    "}\n",
    "\n",
    "cell_type_key = [\"cell_type\"]"
   ]
  },
  {
   "cell_type": "code",
   "execution_count": 4,
   "id": "fc189f5d-80cc-4a5a-9d27-5e742108b0c2",
   "metadata": {},
   "outputs": [],
   "source": [
    "DATA_DIR = '../data'\n",
    "adata = sc.read(\n",
    "    f'{DATA_DIR}/benchmark_pbmc_shrinked.h5ad'\n",
    ")\n",
    "condition_key = 'condition'\n",
    "reference = ['Oetjen', '10X', 'Sun']\n",
    "query = ['Freytag']\n",
    "adata.obs['query'] = adata.obs[condition_key].isin(query)\n",
    "adata.obs['query'] = adata.obs['query'].astype('category')"
   ]
  },
  {
   "cell_type": "code",
   "execution_count": 5,
   "id": "eab38f8c-54ed-42da-8bad-4dc9b4e68043",
   "metadata": {},
   "outputs": [],
   "source": [
    "source_adata = adata[adata.obs.study.isin(reference)].copy()\n",
    "target_adata = adata[adata.obs.study.isin(query)].copy()"
   ]
  },
  {
   "cell_type": "code",
   "execution_count": 6,
   "id": "0dcd1604-a34d-4c92-832f-254c9a64de78",
   "metadata": {},
   "outputs": [],
   "source": [
    "adata = remove_sparsity(adata)\n",
    "\n",
    "indices = np.arange(len(adata))\n",
    "#stratified label/unlabeled split\n",
    "if unlabeled_strat == \"batch\":\n",
    "    labeled_ind = indices[adata.obs.study.isin(reference)].tolist()\n",
    "    labeled_adata = adata[adata.obs.study.isin(reference)].copy()\n",
    "    unlabeled_adata = adata[adata.obs.study.isin(query)].copy()\n",
    "if unlabeled_strat == \"ct\":\n",
    "    labeled_ind = []\n",
    "    cts = adata.obs[cell_type_key[0]].unique().tolist()\n",
    "    for celltype in cts:\n",
    "        ct_indices = indices[adata.obs[cell_type_key[0]].isin([celltype])]\n",
    "        ct_sel_ind = np.random.choice(ct_indices, size=cells_per_ct, replace=False)\n",
    "        labeled_ind += ct_sel_ind.tolist()\n",
    "        print(celltype, len(ct_indices), len(ct_sel_ind), len(labeled_ind))\n",
    "    unlabeled_ind = np.delete(indices, labeled_ind).tolist()\n",
    "    labeled_adata = adata[labeled_ind].copy()\n",
    "    unlabeled_adata = adata[unlabeled_ind].copy()"
   ]
  },
  {
   "cell_type": "code",
   "execution_count": 7,
   "id": "105b2e0d-87be-43d6-9868-806946e28005",
   "metadata": {},
   "outputs": [
    {
     "name": "stdout",
     "output_type": "stream",
     "text": [
      "Embedding dictionary:\n",
      " \tNum conditions: 8\n",
      " \tEmbedding dim: 10\n",
      "Encoder Architecture:\n",
      "\tInput Layer in, out and cond: 4000 128 0\n",
      "\tHidden Layer 1 in/out: 128 128\n",
      "\tMean/Var Layer in/out: 128 25\n",
      "Decoder Architecture:\n",
      "\tFirst Layer in, out and cond:  25 128 10\n",
      "\tHidden Layer 1 in/out: 128 128\n",
      "\tOutput Layer in/out:  128 4000 \n",
      "\n"
     ]
    }
   ],
   "source": [
    "tranvae = EMBEDCVAE(\n",
    "    adata=source_adata,\n",
    "    condition_key=condition_key,\n",
    "    cell_type_keys=cell_type_key,\n",
    "    hidden_layer_sizes=[128, 128],\n",
    "    latent_dim=latent_dim,\n",
    "    inject_condition=['decoder'],\n",
    "    #recon_loss=,\n",
    "    use_mmd=use_mmd,\n",
    ")"
   ]
  },
  {
   "cell_type": "code",
   "execution_count": null,
   "id": "5dfa9e06-1498-46fa-8e95-3ce7f9144af8",
   "metadata": {},
   "outputs": [
    {
     "name": "stdout",
     "output_type": "stream",
     "text": [
      " |███-----------------| 17.0%  - val_loss: 1374.4520051376 - val_trvae_loss: 1374.4520051376"
     ]
    }
   ],
   "source": [
    "tranvae.train(\n",
    "    n_epochs=100,\n",
    "    early_stopping_kwargs=early_stopping_kwargs,\n",
    "    pretraining_epochs=20,\n",
    "    alpha_epoch_anneal=alpha_epoch_anneal,\n",
    "    eta=eta,\n",
    "    tau=tau,\n",
    "    clustering_res=clustering_res,\n",
    "    labeled_loss_metric=labeled_loss_metric,\n",
    "    unlabeled_loss_metric=unlabeled_loss_metric\n",
    ")"
   ]
  },
  {
   "cell_type": "code",
   "execution_count": null,
   "id": "316e549f-cb89-4c5a-bcd2-fe4767e4e33e",
   "metadata": {},
   "outputs": [],
   "source": [
    "ref_path = f'../pr/ref_model_embed'\n",
    "tranvae.save(ref_path, overwrite=True)"
   ]
  },
  {
   "cell_type": "code",
   "execution_count": null,
   "id": "8963833b-8336-46c1-aef3-dce9e83656c6",
   "metadata": {},
   "outputs": [],
   "source": [
    "data_latent = tranvae.get_latent(x=source_adata.X.A, c=source_adata.obs[condition_key])\n",
    "adata_latent = sc.AnnData(data_latent)\n",
    "adata_latent.obs[condition_key] = source_adata.obs[condition_key].tolist()\n",
    "adata_latent.obs['cell_type'] = source_adata.obs['cell_type'].tolist()"
   ]
  },
  {
   "cell_type": "code",
   "execution_count": null,
   "id": "9b92b9f3-e5cf-47e0-bff4-d81aebfdb9a6",
   "metadata": {},
   "outputs": [],
   "source": [
    "landmarks = tranvae.get_landmarks_info()\n",
    "full_latent = adata_latent.concatenate(landmarks, batch_key=None)"
   ]
  },
  {
   "cell_type": "code",
   "execution_count": null,
   "id": "cfefe6b5-3445-4e52-8bd8-d564d46b414d",
   "metadata": {},
   "outputs": [],
   "source": [
    "sc.pp.neighbors(adata_latent)\n",
    "sc.tl.leiden(adata_latent)\n",
    "sc.tl.umap(adata_latent)"
   ]
  },
  {
   "cell_type": "code",
   "execution_count": null,
   "id": "35b9ba55-425a-4d0a-9f5f-0f1d97a1b0f0",
   "metadata": {},
   "outputs": [],
   "source": [
    "sc.pl.umap(adata_latent,\n",
    "           color=[condition_key, 'cell_type'],\n",
    "           frameon=False,\n",
    "           wspace=0.6,\n",
    "           show=False\n",
    "           )\n"
   ]
  },
  {
   "cell_type": "code",
   "execution_count": null,
   "id": "8946a4ea-df94-4657-b394-6b445d4bff3a",
   "metadata": {},
   "outputs": [],
   "source": [
    "sc.pp.neighbors(full_latent)\n",
    "sc.tl.umap(full_latent)"
   ]
  },
  {
   "cell_type": "code",
   "execution_count": null,
   "id": "23a3b6eb-06ed-46b3-962a-a60953662eba",
   "metadata": {},
   "outputs": [],
   "source": [
    "fig, ax = plt.subplots(1, 1)\n",
    "sc.pl.umap(full_latent, ax=ax, show=False)\n",
    "sc.pl.umap(\n",
    "    full_latent[full_latent.obs[condition_key].str.contains('Landmark')],\n",
    "    size=100,\n",
    "    color='cell_type',\n",
    "    ax=ax,\n",
    "    frameon=False,\n",
    "    show=False\n",
    ")\n",
    "ax.set_title('Landmarks')"
   ]
  },
  {
   "cell_type": "code",
   "execution_count": null,
   "id": "1be30634-b770-4e1d-b63d-fad64b5c2abf",
   "metadata": {},
   "outputs": [],
   "source": [
    "sc.pp.neighbors(adata)\n",
    "sc.tl.leiden(adata)\n",
    "sc.tl.umap(adata)"
   ]
  },
  {
   "cell_type": "code",
   "execution_count": null,
   "id": "a5e94057-7b1d-4751-a5e2-154e722b7808",
   "metadata": {},
   "outputs": [],
   "source": [
    "sc.pl.umap(adata,\n",
    "           color=[condition_key, 'query'],\n",
    "           frameon=False,\n",
    "           wspace=0.6,\n",
    "           show=False\n",
    "           )"
   ]
  },
  {
   "cell_type": "code",
   "execution_count": null,
   "id": "8a98fd65-238a-449b-8f5d-bab8621dc47b",
   "metadata": {},
   "outputs": [],
   "source": [
    "tranvae_query = EMBEDCVAE.load_query_data(\n",
    "    adata=target_adata,\n",
    "    reference_model=f'../pr/ref_model_embed',\n",
    "    labeled_indices=[],\n",
    ")"
   ]
  },
  {
   "cell_type": "code",
   "execution_count": null,
   "id": "932c650a-2273-4c95-8375-9daa504401cb",
   "metadata": {},
   "outputs": [],
   "source": [
    "tranvae_query.train(\n",
    "    n_epochs=100,\n",
    "    early_stopping_kwargs=early_stopping_kwargs,\n",
    "    pretraining_epochs=20,\n",
    "    eta=eta,\n",
    "    tau=tau,\n",
    "    weight_decay=0,\n",
    "    clustering_res=clustering_res,\n",
    "    labeled_loss_metric=labeled_loss_metric,\n",
    "    unlabeled_loss_metric=unlabeled_loss_metric\n",
    ")"
   ]
  },
  {
   "cell_type": "code",
   "execution_count": null,
   "id": "3706970a-7f9c-49ea-a629-6dba2c3f4c49",
   "metadata": {},
   "outputs": [],
   "source": [
    "data_latent = tranvae_query.get_latent(\n",
    "    x=adata.X,\n",
    "    c=adata.obs[condition_key]\n",
    ")"
   ]
  },
  {
   "cell_type": "code",
   "execution_count": null,
   "id": "5cd8edfc-56f3-40f5-934c-29a56f706049",
   "metadata": {},
   "outputs": [],
   "source": [
    "adata_latent_wquery = sc.AnnData(data_latent)\n",
    "adata_latent_wquery.obs[condition_key] = adata.obs[condition_key].tolist()\n",
    "adata_latent_wquery.obs['query'] = adata.obs['query'].tolist()\n",
    "adata_latent_wquery.obs['query'] = adata_latent_wquery.obs['query'].astype('category')"
   ]
  },
  {
   "cell_type": "code",
   "execution_count": null,
   "id": "4c34be70-6623-4933-bdd1-583813c3e402",
   "metadata": {},
   "outputs": [],
   "source": [
    "sc.pp.neighbors(adata_latent_wquery)\n",
    "sc.tl.leiden(adata_latent_wquery)\n",
    "sc.tl.umap(adata_latent_wquery)"
   ]
  },
  {
   "cell_type": "code",
   "execution_count": null,
   "id": "4c348289-d293-4e2e-a368-b7d28c1024e4",
   "metadata": {},
   "outputs": [],
   "source": [
    "sc.pl.umap(adata_latent_wquery,\n",
    "           color=[condition_key, 'query'],\n",
    "           frameon=False,\n",
    "           wspace=0.6,\n",
    "           show=False\n",
    "           )"
   ]
  },
  {
   "cell_type": "code",
   "execution_count": null,
   "id": "c9b20ee6-f2f0-4913-a1ed-95d7da0cf4c8",
   "metadata": {},
   "outputs": [],
   "source": [
    "results_dict = tranvae_query.classify(adata.X, adata.obs[condition_key], metric=class_metric)\n",
    "for i in range(len(cell_type_key)):\n",
    "    preds = results_dict[cell_type_key[i]]['preds']\n",
    "    probs = results_dict[cell_type_key[i]]['probs']\n",
    "    results_dict[cell_type_key[i]]['report'] = classification_report(\n",
    "        y_true=adata.obs[cell_type_key[i]], \n",
    "        y_pred=preds,\n",
    "        output_dict=True\n",
    "    )\n",
    "\n",
    "    correct_probs = probs[preds == adata.obs[cell_type_key[i]]]\n",
    "    incorrect_probs = probs[preds != adata.obs[cell_type_key[i]]]\n",
    "    data = [correct_probs, incorrect_probs]\n",
    "\n",
    "    checks = np.array(len(adata) * ['incorrect'])\n",
    "    checks[preds == adata.obs[cell_type_key[i]]] = 'correct'\n",
    "    adata_latent_wquery.obs[cell_type_key[i]] = adata.obs[cell_type_key[i]].tolist()\n",
    "    adata_latent_wquery.obs[f'{cell_type_key[i]}_pred'] = preds.tolist()\n",
    "    adata_latent_wquery.obs[f'{cell_type_key[i]}_bool'] = checks.tolist()"
   ]
  },
  {
   "cell_type": "code",
   "execution_count": null,
   "id": "a57fdb74-755b-40a6-a076-7ac567c205e8",
   "metadata": {},
   "outputs": [],
   "source": [
    "results_dict['cell_type']['report']"
   ]
  },
  {
   "cell_type": "code",
   "execution_count": null,
   "id": "d7a6895d-a223-4fbb-8df8-9904827c7e92",
   "metadata": {},
   "outputs": [],
   "source": [
    "sc.pl.umap(\n",
    "    adata_latent_wquery,\n",
    "    color=['cell_type_pred', 'cell_type_bool'],\n",
    "    wspace=0.6,\n",
    "    frameon=False\n",
    ")"
   ]
  },
  {
   "cell_type": "code",
   "execution_count": null,
   "id": "ed931246-3952-49f7-a4cf-e475fe893e8e",
   "metadata": {},
   "outputs": [],
   "source": [
    "f1 = list()\n",
    "prec = list()\n",
    "recall = list()\n",
    "for key in list(results_dict['cell_type']['report'].keys())[:-4]:\n",
    "    print(key)\n",
    "    f1.append(results_dict['cell_type']['report'][key]['f1-score'])\n",
    "    prec.append(results_dict['cell_type']['report'][key]['precision'])\n",
    "    recall.append(results_dict['cell_type']['report'][key]['recall'])"
   ]
  },
  {
   "cell_type": "code",
   "execution_count": null,
   "id": "ab2127f7-1b42-4010-b740-e80e9babb465",
   "metadata": {},
   "outputs": [],
   "source": [
    "emb = tranvae.model.embedding.weight.detach().cpu().numpy()\n",
    "emb_wquery = tranvae_query.model.embedding.weight.detach().cpu().numpy()"
   ]
  },
  {
   "cell_type": "code",
   "execution_count": null,
   "id": "283755ab-821b-4c51-9ecc-06166c358654",
   "metadata": {},
   "outputs": [],
   "source": [
    "from sklearn.decomposition import KernelPCA\n",
    "pca = KernelPCA(n_components=2, kernel='linear')\n",
    "emb_x = pca.fit_transform(emb)\n",
    "emb_wquery_x = pca.fit_transform(emb_wquery)"
   ]
  },
  {
   "cell_type": "code",
   "execution_count": null,
   "id": "c72aa7e1-a04a-48bd-91cc-b6e0305039f1",
   "metadata": {},
   "outputs": [],
   "source": [
    "import seaborn as sns\n",
    "fig, ax = plt.subplots(1, 2, figsize=(14, 7))\n",
    "sns.scatterplot(\n",
    "    emb_x[:, 0], \n",
    "    emb_x[:, 1], \n",
    "    hue=source_adata.obs[condition_key].unique(), \n",
    "    ax=ax[0]\n",
    ")\n",
    "for i in range(emb_x.shape[0]):\n",
    "    ax[0].plot([0, emb_x[i, 0]], [0, emb_x[i, 1]])\n",
    "    \n",
    "sns.scatterplot(\n",
    "    emb_wquery_x[:, 0], \n",
    "    emb_wquery_x[:, 1], \n",
    "    hue=adata.obs[condition_key].unique(), \n",
    "    ax=ax[1]\n",
    ")\n",
    "for i in range(emb_wquery_x.shape[0]):\n",
    "    ax[1].plot([0, emb_wquery_x[i, 0]], [0, emb_wquery_x[i, 1]])\n",
    "sns.despine()"
   ]
  },
  {
   "cell_type": "code",
   "execution_count": null,
   "id": "06d88bb2-cb38-416d-bae3-02b9482f981f",
   "metadata": {},
   "outputs": [],
   "source": [
    "import seaborn as sns\n",
    "fig, ax = plt.subplots(1, 1, figsize=(8, 4))\n",
    "sns.barplot(\n",
    "    list(results_dict['cell_type']['report'].keys())[:-4],\n",
    "    f1,\n",
    ")\n",
    "ax.set_xticklabels(ax.get_xticklabels(), rotation=90)\n",
    "sns.despine()\n",
    "ax.set_title('F1 score')"
   ]
  },
  {
   "cell_type": "code",
   "execution_count": null,
   "id": "bc4b14b3-1368-4486-9ceb-63208e8991b9",
   "metadata": {},
   "outputs": [],
   "source": [
    "import seaborn as sns\n",
    "fig, ax = plt.subplots(1, 1)\n",
    "sns.barplot(\n",
    "    list(results_dict['cell_type']['report'].keys())[:-4],\n",
    "    prec,\n",
    ")\n",
    "ax.set_xticklabels(ax.get_xticklabels(), rotation=90)\n",
    "sns.despine()\n",
    "ax.set_title('precision')"
   ]
  },
  {
   "cell_type": "code",
   "execution_count": null,
   "id": "930c8107-591c-4738-b10d-e08170cee32d",
   "metadata": {},
   "outputs": [],
   "source": [
    "import seaborn as sns\n",
    "fig, ax = plt.subplots(1, 1)\n",
    "sns.barplot(\n",
    "    list(results_dict['cell_type']['report'].keys())[:-4],\n",
    "    recall,\n",
    ")\n",
    "ax.set_xticklabels(ax.get_xticklabels(), rotation=90)\n",
    "sns.despine()\n",
    "ax.set_title('recall')"
   ]
  },
  {
   "cell_type": "code",
   "execution_count": null,
   "id": "4537ece2-e465-4018-ac58-3553e5e0fc05",
   "metadata": {},
   "outputs": [],
   "source": []
  },
  {
   "cell_type": "code",
   "execution_count": null,
   "id": "1436eab5-664f-4328-8223-5e3cef531c04",
   "metadata": {},
   "outputs": [],
   "source": []
  }
 ],
 "metadata": {
  "kernelspec": {
   "display_name": "Python 3",
   "language": "python",
   "name": "python3"
  },
  "language_info": {
   "codemirror_mode": {
    "name": "ipython",
    "version": 3
   },
   "file_extension": ".py",
   "mimetype": "text/x-python",
   "name": "python",
   "nbconvert_exporter": "python",
   "pygments_lexer": "ipython3",
   "version": "3.8.0"
  }
 },
 "nbformat": 4,
 "nbformat_minor": 5
}
